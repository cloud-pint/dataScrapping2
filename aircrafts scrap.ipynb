{
 "cells": [
  {
   "cell_type": "markdown",
   "id": "d521fc3e-2f39-42bf-aaf0-e89d7f20f23a",
   "metadata": {},
   "source": [
    "# List of aircrafts\n"
   ]
  },
  {
   "cell_type": "code",
   "execution_count": 2,
   "id": "a6925a7c-839f-468f-94c1-83743b95aa78",
   "metadata": {},
   "outputs": [],
   "source": [
    "import requests\n",
    "from bs4 import BeautifulSoup as bs\n",
    "import pandas as pd"
   ]
  },
  {
   "cell_type": "code",
   "execution_count": 4,
   "id": "5fd774d7-e195-4060-8485-3da11842e262",
   "metadata": {},
   "outputs": [],
   "source": [
    "headers = {\n",
    "    'User-Agent': 'Mozilla/5.0 (Windows NT 6.1) AppleWebKit/537.36 (KHTML, like Gecko) Chrome/41.0.228.0 Safari/537.36'\n",
    "}"
   ]
  },
  {
   "cell_type": "code",
   "execution_count": 6,
   "id": "501ea2ef-d04e-42c7-a9e0-518a1761005a",
   "metadata": {},
   "outputs": [],
   "source": [
    "url='https://en.wikipedia.org/wiki/List_of_active_Indian_military_aircraft'"
   ]
  },
  {
   "cell_type": "code",
   "execution_count": 14,
   "id": "85c25d92-4595-4c89-bdb0-10628149734a",
   "metadata": {},
   "outputs": [],
   "source": [
    "response=requests.get(url,headers=headers)"
   ]
  },
  {
   "cell_type": "code",
   "execution_count": 16,
   "id": "0a99e78e-68cb-4c94-b32b-d02c89dbbce3",
   "metadata": {},
   "outputs": [
    {
     "data": {
      "text/plain": [
       "<Response [200]>"
      ]
     },
     "execution_count": 16,
     "metadata": {},
     "output_type": "execute_result"
    }
   ],
   "source": [
    "response"
   ]
  },
  {
   "cell_type": "code",
   "execution_count": 18,
   "id": "7d7834ec-5e1c-4638-9f2d-20d49e54d38f",
   "metadata": {},
   "outputs": [],
   "source": [
    "soup=bs(response.content,'html.parser')"
   ]
  },
  {
   "cell_type": "code",
   "execution_count": 20,
   "id": "e3e20c84-c661-4cfb-a727-7cbe1be3cb77",
   "metadata": {},
   "outputs": [],
   "source": [
    "table=soup.find('table',class_='wikitable')"
   ]
  },
  {
   "cell_type": "code",
   "execution_count": 44,
   "id": "3637e48a-b89d-4d88-a95c-70ee65184e01",
   "metadata": {},
   "outputs": [],
   "source": [
    "Aircraft_list=[]\n",
    "for i in table.find_all('tr')[2:]:\n",
    "    Aircraft_list.append(i.find('td'))"
   ]
  },
  {
   "cell_type": "code",
   "execution_count": 46,
   "id": "936961a3-d411-4f9a-b326-06a02a400f9e",
   "metadata": {
    "collapsed": true,
    "jupyter": {
     "outputs_hidden": true
    }
   },
   "outputs": [
    {
     "data": {
      "text/plain": [
       "[<td rowspan=\"2\"><a href=\"/wiki/Dassault_Rafale\" title=\"Dassault Rafale\">Dassault Rafale</a>\n",
       " </td>,\n",
       " <td><a href=\"/wiki/Dassault_Rafale#Variants\" title=\"Dassault Rafale\">EH</a>\n",
       " </td>,\n",
       " <td rowspan=\"3\"><a href=\"/wiki/HAL_Tejas\" title=\"HAL Tejas\">HAL Tejas</a>\n",
       " </td>,\n",
       " <td><a href=\"/wiki/Trainer_aircraft#Operational_conversion\" title=\"Trainer aircraft\">Conversion trainer</a>\n",
       " </td>,\n",
       " <td><a href=\"/wiki/Multirole_combat_aircraft\" title=\"Multirole combat aircraft\">Multirole</a>\n",
       " </td>,\n",
       " <td><a href=\"/wiki/Sukhoi_Su-30MKI\" title=\"Sukhoi Su-30MKI\">Sukhoi Su-30MKI</a>\n",
       " </td>,\n",
       " <td rowspan=\"2\"><a href=\"/wiki/Mikoyan_MiG-29\" title=\"Mikoyan MiG-29\">Mikoyan MiG-29</a>\n",
       " </td>,\n",
       " <td><a href=\"/wiki/Mikoyan_MiG-29#Variants\" title=\"Mikoyan MiG-29\">Fulcrum B</a>\n",
       " </td>,\n",
       " <td rowspan=\"2\"><a href=\"/wiki/Dassault_Mirage_2000\" title=\"Dassault Mirage 2000\">Dassault Mirage 2000</a>\n",
       " </td>,\n",
       " <td><a href=\"/wiki/Dassault_Mirage_2000#Variants\" title=\"Dassault Mirage 2000\">-2000TH</a>\n",
       " </td>,\n",
       " <td rowspan=\"3\"><a href=\"/wiki/SEPECAT_Jaguar\" title=\"SEPECAT Jaguar\">SEPECAT Jaguar</a>\n",
       " </td>,\n",
       " <td><a href=\"/wiki/SEPECAT_Jaguar#Variants\" title=\"SEPECAT Jaguar\">IS</a>\n",
       " </td>,\n",
       " <td><a href=\"/wiki/SEPECAT_Jaguar#Variants\" title=\"SEPECAT Jaguar\">IM</a>\n",
       " </td>,\n",
       " <td><a href=\"/wiki/Mikoyan-Gurevich_MiG-21\" title=\"Mikoyan-Gurevich MiG-21\">Mikoyan-Gurevich MiG-21</a>\n",
       " </td>,\n",
       " None,\n",
       " <td><a href=\"/wiki/Embraer_R-99\" title=\"Embraer R-99\">Embraer R-99</a>\n",
       " </td>,\n",
       " <td><a href=\"/wiki/Beriev_A-50\" title=\"Beriev A-50\">Beriev A-50</a>\n",
       " </td>,\n",
       " None,\n",
       " <td><a href=\"/wiki/Boeing_707\" title=\"Boeing 707\">Boeing 707</a>\n",
       " </td>,\n",
       " <td><a href=\"/wiki/Bombardier_Global_Express\" title=\"Bombardier Global Express\">Global 5000</a>\n",
       " </td>,\n",
       " <td><a href=\"/wiki/Gulfstream_III\" title=\"Gulfstream III\">Gulfstream III</a>\n",
       " </td>,\n",
       " <td><a href=\"/wiki/Gulfstream_G100\" title=\"Gulfstream G100\">Gulfstream G100</a>\n",
       " </td>,\n",
       " None,\n",
       " <td><a href=\"/wiki/Ilyushin_Il-78\" title=\"Ilyushin Il-78\">Ilyushin Il-78</a>\n",
       " </td>,\n",
       " None,\n",
       " <td><a href=\"/wiki/Boeing_777\" title=\"Boeing 777\">Boeing 777</a>\n",
       " </td>,\n",
       " <td><a href=\"/wiki/Boeing_737\" title=\"Boeing 737\">Boeing 737</a>\n",
       " </td>,\n",
       " <td><a href=\"/wiki/Embraer_Legacy_600\" title=\"Embraer Legacy 600\">Embraer Legacy 600</a>\n",
       " </td>,\n",
       " <td><a href=\"/wiki/Boeing_C-17_Globemaster_III\" title=\"Boeing C-17 Globemaster III\">Boeing C-17</a>\n",
       " </td>,\n",
       " <td><a href=\"/wiki/Ilyushin_Il-76\" title=\"Ilyushin Il-76\">Ilyushin Il-76</a>\n",
       " </td>,\n",
       " <td><a href=\"/wiki/Lockheed_Martin_C-130J_Super_Hercules\" title=\"Lockheed Martin C-130J Super Hercules\">C-130J Super Hercules</a>\n",
       " </td>,\n",
       " <td><a href=\"/wiki/Airbus_A321\" title=\"Airbus A321\">Airbus A321</a>\n",
       " </td>,\n",
       " <td><a href=\"/wiki/Antonov_An-32\" title=\"Antonov An-32\">Antonov An-32</a>\n",
       " </td>,\n",
       " <td><a href=\"/wiki/EADS_CASA_C-295\" title=\"EADS CASA C-295\">EADS CASA C-295</a>\n",
       " </td>,\n",
       " <td><a href=\"/wiki/Hawker_Siddeley_HS_748\" title=\"Hawker Siddeley HS 748\">Hawker Siddeley HS 748</a>\n",
       " </td>,\n",
       " <td><a href=\"/wiki/Dornier_228\" title=\"Dornier 228\">Dornier Do 228</a>\n",
       " </td>,\n",
       " None,\n",
       " <td><a href=\"/wiki/Boeing_AH-64_Apache\" title=\"Boeing AH-64 Apache\">Boeing AH-64</a>\n",
       " </td>,\n",
       " <td><a href=\"/wiki/Mil_Mi-24\" title=\"Mil Mi-24\">Mil Mi-24</a>\n",
       " </td>,\n",
       " <td><a class=\"mw-redirect\" href=\"/wiki/HAL_Light_Combat_Helicopter\" title=\"HAL Light Combat Helicopter\">HAL Prachand</a>\n",
       " </td>,\n",
       " <td><a href=\"/wiki/HAL_Rudra\" title=\"HAL Rudra\">HAL Rudra</a>\n",
       " </td>,\n",
       " <td><a href=\"/wiki/Boeing_CH-47_Chinook\" title=\"Boeing CH-47 Chinook\">CH-47 Chinook</a>\n",
       " </td>,\n",
       " <td><a href=\"/wiki/Mil_Mi-17\" title=\"Mil Mi-17\">Mil Mi-17</a>\n",
       " </td>,\n",
       " <td><a href=\"/wiki/HAL_Dhruv\" title=\"HAL Dhruv\">HAL Dhruv</a>\n",
       " </td>,\n",
       " <td><a href=\"/wiki/HAL_Light_Utility_Helicopter\" title=\"HAL Light Utility Helicopter\">HAL LUH</a>\n",
       " </td>,\n",
       " <td><a href=\"/wiki/A%C3%A9rospatiale_Alouette_III\" title=\"Aérospatiale Alouette III\">Alouette III</a>\n",
       " </td>,\n",
       " <td><a href=\"/wiki/A%C3%A9rospatiale_SA_315B_Lama\" title=\"Aérospatiale SA 315B Lama\">SA 315B Lama</a>\n",
       " </td>,\n",
       " None,\n",
       " <td><a href=\"/wiki/BAE_Systems_Hawk\" title=\"BAE Systems Hawk\">BAE Hawk</a>\n",
       " </td>,\n",
       " <td><a class=\"mw-redirect\" href=\"/wiki/HAL_Kiran\" title=\"HAL Kiran\">HAL Kiran</a>\n",
       " </td>,\n",
       " <td><a href=\"/wiki/HAL_HTT-40\" title=\"HAL HTT-40\">HAL HTT-40</a>\n",
       " </td>,\n",
       " <td><a href=\"/wiki/Pilatus_PC-7\" title=\"Pilatus PC-7\">Pilatus PC-7</a>\n",
       " </td>,\n",
       " <td><a href=\"/wiki/Pipistrel_Virus\" title=\"Pipistrel Virus\">Pipistrel Virus</a>\n",
       " </td>,\n",
       " None,\n",
       " <td><a href=\"/wiki/IAI_Heron\" title=\"IAI Heron\">IAI Heron</a>\n",
       " </td>,\n",
       " <td><a href=\"/wiki/IAI_Heron\" title=\"IAI Heron\">IAI Heron</a> Mk 2\n",
       " </td>,\n",
       " <td><a href=\"/wiki/IAI_Searcher\" title=\"IAI Searcher\">IAI Searcher</a>\n",
       " </td>,\n",
       " <td>ALS-50\n",
       " </td>,\n",
       " <td><a class=\"external text\" href=\"http://www.kadet-uav.com/\" rel=\"nofollow\">Kadet</a> Loitering Aerial Munition\n",
       " </td>]"
      ]
     },
     "execution_count": 46,
     "metadata": {},
     "output_type": "execute_result"
    }
   ],
   "source": [
    "Aircraft_list"
   ]
  },
  {
   "cell_type": "code",
   "execution_count": 54,
   "id": "8b099698-46c6-4f93-b1ab-1a3a79b7ed59",
   "metadata": {},
   "outputs": [
    {
     "ename": "AttributeError",
     "evalue": "'NoneType' object has no attribute 'text'",
     "output_type": "error",
     "traceback": [
      "\u001b[1;31m---------------------------------------------------------------------------\u001b[0m",
      "\u001b[1;31mAttributeError\u001b[0m                            Traceback (most recent call last)",
      "Cell \u001b[1;32mIn[54], line 3\u001b[0m\n\u001b[0;32m      1\u001b[0m Aircrafts\u001b[38;5;241m=\u001b[39m[]\n\u001b[0;32m      2\u001b[0m \u001b[38;5;28;01mfor\u001b[39;00m i \u001b[38;5;129;01min\u001b[39;00m Aircraft_list:\n\u001b[1;32m----> 3\u001b[0m     Aircrafts\u001b[38;5;241m.\u001b[39mappend(i\u001b[38;5;241m.\u001b[39mtext)\n",
      "\u001b[1;31mAttributeError\u001b[0m: 'NoneType' object has no attribute 'text'"
     ]
    }
   ],
   "source": [
    "Aircrafts=[]\n",
    "for i in Aircraft_list:\n",
    "    Aircrafts.append(i.text)"
   ]
  },
  {
   "cell_type": "code",
   "execution_count": null,
   "id": "55c6e1e9-906f-40fa-9ea3-322454666b4f",
   "metadata": {},
   "outputs": [],
   "source": []
  },
  {
   "cell_type": "code",
   "execution_count": null,
   "id": "51683a47-ae30-4686-b8c7-d7b6dda13c62",
   "metadata": {},
   "outputs": [],
   "source": []
  }
 ],
 "metadata": {
  "kernelspec": {
   "display_name": "Python 3 (ipykernel)",
   "language": "python",
   "name": "python3"
  },
  "language_info": {
   "codemirror_mode": {
    "name": "ipython",
    "version": 3
   },
   "file_extension": ".py",
   "mimetype": "text/x-python",
   "name": "python",
   "nbconvert_exporter": "python",
   "pygments_lexer": "ipython3",
   "version": "3.12.4"
  }
 },
 "nbformat": 4,
 "nbformat_minor": 5
}
